{
 "cells": [
  {
   "cell_type": "code",
   "execution_count": null,
   "id": "81ddc07e",
   "metadata": {},
   "outputs": [],
   "source": [
    "def cigar_party(cigars, is_weekend):\n",
    "  \"\"\"\n",
    "  When squirrels get together for a party, they like to have cigars. A squirrel\n",
    "  party is successful when the number of cigars is between 40 and 60, inclusive.\n",
    "  Unless it is the weekend, in which case there is no upper bound on the number\n",
    "  of cigars. Return True if the party with the given values is successful, or\n",
    "  False otherwise. \n",
    "  \"\"\"\n",
    "  return cigars >= 40 if is_weekend else cigars in range(40,61)"
   ]
  },
  {
   "cell_type": "code",
   "execution_count": null,
   "id": "d354d786",
   "metadata": {},
   "outputs": [],
   "source": [
    "def date_fashion(you, date):\n",
    "  \"\"\"\n",
    "  You and your date are trying to get a table at a restaurant. The parameter \n",
    "  \"you\" is the stylishness of your clothes, in the range 0..10, and \"date\" is \n",
    "  the stylishness of your date's clothes. The result getting the table is \n",
    "  encoded as an int value with 0=no, 1=maybe, 2=yes. If either of you is very \n",
    "  stylish, 8 or more, then the result is 2 (yes). With the exception that if \n",
    "  either of you has style of 2 or less, then the result is 0 (no). Otherwise \n",
    "  the result is 1 (maybe). \n",
    "  \"\"\"\n",
    "  if you <= 2 or date <=2:\n",
    "    return 0\n",
    "  elif you >=8 or date >=8:\n",
    "    return 2\n",
    "  else:\n",
    "    return 1"
   ]
  },
  {
   "cell_type": "code",
   "execution_count": null,
   "id": "f5ea7d7f",
   "metadata": {},
   "outputs": [],
   "source": [
    "def squirrel_play(temp, is_summer):\n",
    "  \"\"\"\n",
    "  The squirrels in Palo Alto spend most of the day playing. In particular, \n",
    "  they play if the temperature is between 60 and 90 (inclusive). Unless it is \n",
    "  summer, then the upper limit is 100 instead of 90. Given an int temperature \n",
    "  and a boolean is_summer, return True if the squirrels play and False \n",
    "  otherwise. \n",
    "  \"\"\"\n",
    "  return temp in range(60, 101 if is_summer else 91)"
   ]
  },
  {
   "cell_type": "code",
   "execution_count": null,
   "id": "85bd8b41",
   "metadata": {},
   "outputs": [],
   "source": [
    "def caught_speeding(speed, is_birthday):\n",
    "  \"\"\"\n",
    "  You are driving a little too fast, and a police officer stops you. Write code\n",
    "  to compute the result, encoded as an int value: 0=no ticket, 1=small ticket, \n",
    "  2=big ticket. If speed is 60 or less, the result is 0. If speed is between 61 \n",
    "  and 80 inclusive, the result is 1. If speed is 81 or more, the result is 2. \n",
    "  Unless it is your birthday -- on that day, your speed can be 5 higher in all \n",
    "  cases. \n",
    "  \"\"\"\n",
    "  speeding = speed - (65 if is_birthday else 60)\n",
    "  if speeding > 20:\n",
    "    return 2\n",
    "  elif speeding > 0:\n",
    "    return 1\n",
    "  else:\n",
    "    return 0"
   ]
  },
  {
   "cell_type": "code",
   "execution_count": null,
   "id": "3d0adb28",
   "metadata": {},
   "outputs": [],
   "source": [
    "def sorta_sum(a, b):\n",
    "  \"\"\"\n",
    "  Given 2 ints, a and b, return their sum. However, sums in the range 10..19 \n",
    "  inclusive, are forbidden, so in that case just return 20. \n",
    "  \"\"\"\n",
    "  return 20 if a+b in range(10,20) else a+b"
   ]
  },
  {
   "cell_type": "code",
   "execution_count": null,
   "id": "70576ae3",
   "metadata": {},
   "outputs": [],
   "source": [
    "def alarm_clock(day, vacation):\n",
    "    \"\"\"\n",
    "  Given a day of the week encoded as 0=Sun, 1=Mon, 2=Tue, ...6=Sat, and a \n",
    "  boolean indicating if we are on vacation, return a string of the form \"7:00\" \n",
    "  indicating when the alarm clock should ring. Weekdays, the alarm should be \n",
    "  \"7:00\" and on the weekend it should be \"10:00\". Unless we are on vacation --\n",
    "  then on weekdays it should be \"10:00\" and weekends it should be \"off\". \n",
    "  \"\"\"\n",
    "  pronto = \"7:00\" if not vacation else \"10:00\"\n",
    "  tarde = \"10:00\" if not vacation else \"off\"\n",
    "  return pronto if day not in [6,0] else tarde"
   ]
  },
  {
   "cell_type": "code",
   "execution_count": null,
   "id": "9ab8c1ed",
   "metadata": {},
   "outputs": [],
   "source": [
    "def love6(a, b):\n",
    "  \"\"\"\n",
    "  The number 6 is a truly great number. Given two int values, a and b, \n",
    "  return True if either one is 6. Or if their sum or difference is 6. \n",
    "  \"\"\"\n",
    "  return a == 6 or b == 6 or a+b == 6 or abs(a-b) == 6"
   ]
  },
  {
   "cell_type": "code",
   "execution_count": null,
   "id": "f1152567",
   "metadata": {},
   "outputs": [],
   "source": [
    "def in1to10(n, outside_mode):\n",
    "  \"\"\"\n",
    "  Given a number n, return True if n is in the range 1..10, inclusive. \n",
    "  Unless \"outsideMode\" is True, in which case return True if the number is \n",
    "  less or equal to 1, or greater or equal to 10. \n",
    "  \"\"\"\n",
    "  if n == 1 or n == 10:\n",
    "    return True\n",
    "  return (n in range(1,11)) ^ outside_mode"
   ]
  },
  {
   "cell_type": "code",
   "execution_count": null,
   "id": "e4c75e86",
   "metadata": {},
   "outputs": [],
   "source": [
    "def near_ten(num):\n",
    "  \"\"\"\n",
    "  Given a non-negative number \"num\", return True if num is within 2 of a \n",
    "  multiple of 10. Note: (a % b) is the remainder of dividing a by b, \n",
    "  so (7 % 5) is 2. \n",
    "  \"\"\"\n",
    "  #within = num - (num+2)/10*10\n",
    "  #return within in range(-2,3)\n",
    "  within = num%10\n",
    "  \n",
    "  return within in [8,9,2,1,0]"
   ]
  }
 ],
 "metadata": {
  "kernelspec": {
   "display_name": "Python 3 (ipykernel)",
   "language": "python",
   "name": "python3"
  },
  "language_info": {
   "codemirror_mode": {
    "name": "ipython",
    "version": 3
   },
   "file_extension": ".py",
   "mimetype": "text/x-python",
   "name": "python",
   "nbconvert_exporter": "python",
   "pygments_lexer": "ipython3",
   "version": "3.11.7"
  }
 },
 "nbformat": 4,
 "nbformat_minor": 5
}
