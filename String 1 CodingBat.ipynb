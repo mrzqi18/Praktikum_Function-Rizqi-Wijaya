{
 "cells": [
  {
   "cell_type": "code",
   "execution_count": 4,
   "id": "1cb43529",
   "metadata": {},
   "outputs": [],
   "source": [
    "def hello_name(name):\n",
    "  \"\"\"\n",
    "  Given a string name, e.g. \"Bob\", return a greeting of the form \"Hello Bob!\".\n",
    "  \"\"\"\n",
    "  return \"Hello \" + name + \"!\""
   ]
  },
  {
   "cell_type": "code",
   "execution_count": null,
   "id": "b3c49830",
   "metadata": {},
   "outputs": [],
   "source": [
    "def make_abba(a, b):\n",
    "  \"\"\"\n",
    "  Given two strings, a and b, return the result of putting them together \n",
    "  in the order abba, e.g. \"Hi\" and \"Bye\" returns \"HiByeByeHi\". \n",
    "  \"\"\"\n",
    "  return a+2*b+a"
   ]
  },
  {
   "cell_type": "code",
   "execution_count": null,
   "id": "944fb279",
   "metadata": {},
   "outputs": [],
   "source": [
    "def make_tags(tag, word):\n",
    "  \"\"\"\n",
    "  The web is built with HTML strings like \"<i>Yay</i>\" which draws Yay as \n",
    "  italic text. In this example, the \"i\" tag makes <i> and </i> which surround \n",
    "  the word \"Yay\". Given tag and word strings, create the HTML string with tags\n",
    "  around the word, e.g. \"<i>Yay</i>\". \n",
    "  \"\"\"\n",
    "  return \"<\"+tag+\">\"+word+\"</\"+tag+\">\""
   ]
  },
  {
   "cell_type": "code",
   "execution_count": null,
   "id": "15626206",
   "metadata": {},
   "outputs": [],
   "source": [
    "def make_out_word(out, word):\n",
    "  \"\"\"\n",
    "  Given an \"out\" string length 4, such as \"<<>>\", and a word, return a new \n",
    "  string where the word is in the middle of the out string, e.g. \"<<word>>\". \n",
    "  \"\"\"\n",
    "  return out[:2] + word + out[2:]"
   ]
  },
  {
   "cell_type": "code",
   "execution_count": null,
   "id": "aeffed5c",
   "metadata": {},
   "outputs": [],
   "source": [
    "def extra_end(str):\n",
    "  \"\"\"\n",
    "  Given a string, return a new string made of 3 copies of the last 2 chars \n",
    "  of the original string. The string length will be at least 2. \n",
    "  \"\"\"\n",
    "  return str[-2:]*3"
   ]
  },
  {
   "cell_type": "code",
   "execution_count": null,
   "id": "d97c880e",
   "metadata": {},
   "outputs": [],
   "source": [
    "def first_two(str):\n",
    "  \"\"\"\n",
    "  Given a string, return the string made of its first two chars, so the \n",
    "  String \"Hello\" yields \"He\". If the string is shorter than length 2, return \n",
    "  whatever there is, so \"X\" yields \"X\", and the empty string \"\" yields the \n",
    "  empty string \"\". \n",
    "  \"\"\"\n",
    "  return str if len(str)<=2 else str[:2]"
   ]
  },
  {
   "cell_type": "code",
   "execution_count": null,
   "id": "3fc01c72",
   "metadata": {},
   "outputs": [],
   "source": [
    "def first_half(str):\n",
    "  \"\"\"\n",
    "  Given a string of even length, return the first half. So the string \"WooHoo\"\n",
    "  yields \"Woo\". \n",
    "  \"\"\"\n",
    "  return str[:len(str)/2]"
   ]
  },
  {
   "cell_type": "code",
   "execution_count": null,
   "id": "ca48ed68",
   "metadata": {},
   "outputs": [],
   "source": [
    "def without_end(str):\n",
    "  \"\"\"\n",
    "  Given a string, return a version without the first and last char, \n",
    "  so \"Hello\" yields \"ell\". The string length will be at least 2. \n",
    "  \"\"\"\n",
    "  return str[1:-1]"
   ]
  },
  {
   "cell_type": "code",
   "execution_count": null,
   "id": "87b962f4",
   "metadata": {},
   "outputs": [],
   "source": [
    "def combo_string(a, b):\n",
    "  \"\"\"\n",
    "  Given 2 strings, a and b, return a string of the form short+long+short, \n",
    "  with the shorter string on the outside and the longer string on the inside. \n",
    "  The strings will not be the same length, but they may be empty (length 0). \n",
    "  \"\"\"\n",
    "  return a+b+a if len(a)<len(b) else b+a+b"
   ]
  },
  {
   "cell_type": "code",
   "execution_count": null,
   "id": "16cb22c2",
   "metadata": {},
   "outputs": [],
   "source": [
    "def non_start(a, b):\n",
    "  \"\"\"\n",
    "  Given 2 strings, return their concatenation, except omit the first char \n",
    "  of each. The strings will be at least length 1. \n",
    "  \"\"\"\n",
    "  return a[1:]+b[1:]\n"
   ]
  },
  {
   "cell_type": "code",
   "execution_count": 6,
   "id": "9207c4fc",
   "metadata": {},
   "outputs": [],
   "source": [
    "def left2(str):\n",
    "  \"\"\"\n",
    "  Given a string, return a \"rotated left 2\" version where the first 2 chars \n",
    "  are moved to the end. The string length will be at least 2. \n",
    "  \"\"\"\n",
    "  return str[2:]+str[:2]"
   ]
  }
 ],
 "metadata": {
  "kernelspec": {
   "display_name": "Python 3 (ipykernel)",
   "language": "python",
   "name": "python3"
  },
  "language_info": {
   "codemirror_mode": {
    "name": "ipython",
    "version": 3
   },
   "file_extension": ".py",
   "mimetype": "text/x-python",
   "name": "python",
   "nbconvert_exporter": "python",
   "pygments_lexer": "ipython3",
   "version": "3.11.7"
  }
 },
 "nbformat": 4,
 "nbformat_minor": 5
}
